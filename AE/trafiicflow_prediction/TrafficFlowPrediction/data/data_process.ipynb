{
 "cells": [
  {
   "cell_type": "markdown",
   "source": [
    "### 数据介绍\n",
    "2023.10.25"
   ],
   "metadata": {
    "collapsed": false,
    "pycharm": {
     "name": "#%% md\n"
    }
   }
  },
  {
   "cell_type": "code",
   "execution_count": 1,
   "outputs": [
    {
     "name": "stdout",
     "output_type": "stream",
     "text": [
      "         5 Minutes  Lane 1 Flow (Veh/5 Minutes)  # Lane Points  % Observed\n",
      "0  04/01/2016 0:00                           12              1         100\n",
      "1  04/01/2016 0:05                           13              1         100\n",
      "2  04/01/2016 0:10                           11              1         100\n",
      "3  04/01/2016 0:15                           13              1         100\n",
      "4  04/01/2016 0:20                           10              1         100\n"
     ]
    }
   ],
   "source": [
    "import math\n",
    "\n",
    "import pandas as pd\n",
    "\n",
    "df = pd.read_csv('E:\\\\论文\\交通流\\\\AE\\\\trafiicflow_prediction\\\\TrafficFlowPrediction\\\\data\\\\train.csv')\n",
    "print(df.head())\n"
   ],
   "metadata": {
    "collapsed": false,
    "pycharm": {
     "name": "#%%\n"
    }
   }
  },
  {
   "cell_type": "markdown",
   "source": [
    "5 Minutes：表示时间间隔，每个观测点的数据采集时间段为5分钟\n",
    "Lane 1 Flow (Veh/5 Minutes)：表示车道1的流量，以5分钟内通过的车辆数进行计算\n",
    "Lane Points：可以理解为车道的数量或车道点的数量\n",
    "% Observed：表示观察到的车辆百分比。"
   ],
   "metadata": {
    "collapsed": false,
    "pycharm": {
     "name": "#%% md\n"
    }
   }
  },
  {
   "cell_type": "markdown",
   "source": [
    "### 下面是根据原有代码，尝试跟写一遍代码弄清楚代码原理"
   ],
   "metadata": {
    "collapsed": false,
    "pycharm": {
     "name": "#%% md\n"
    }
   }
  },
  {
   "cell_type": "markdown",
   "source": [
    "Dense：该模块**提供了全连接层的实现**。全连接层是神经网络中最基本的层之一，将输入数据与权重矩阵相乘，并应用激活函数来生成输出。\n",
    "\n",
    "Dropout：该模块提供了在训练过程中添加随机失活的功能。随机失活**是一种正则化技术**，可通过在每个训练步骤中随机关闭一部分神经元来减少过拟合。\n",
    "\n",
    "Activation：该模块**提供了各种激活函数的实现**，例如ReLU、sigmoid和softmax等。激活函数在神经网络中引入非线性性质，使其能够学习更复杂的模式。\n",
    "\n",
    "LSTM 和 GRU：这两个模块分别实现了长短期记忆（LSTM）和门控循环单元（GRU）的循环神经网络（RNN）层。LSTM和GRU是RNN的变体，专门处理序列数据，并且能够捕捉长期依赖关系。\n",
    "\n",
    "Sequential：该模块**定义了一个顺序模型**，可以按照顺序将各层逐个添加到模型中。这是最常用的模型类型，**特别适用于堆叠多个神经层的情况**。"
   ],
   "metadata": {
    "collapsed": false,
    "pycharm": {
     "name": "#%% md\n"
    }
   }
  },
  {
   "cell_type": "code",
   "execution_count": 2,
   "outputs": [
    {
     "name": "stderr",
     "output_type": "stream",
     "text": [
      "D:\\Lenovo\\application\\anaconda3\\envs\\dpstudy\\lib\\site-packages\\requests\\__init__.py:114: RequestsDependencyWarning: urllib3 (1.26.14) or chardet (None)/charset_normalizer (3.3.2) doesn't match a supported version!\n",
      "  RequestsDependencyWarning,\n"
     ]
    }
   ],
   "source": [
    "# 先写model.py，先定义好模型\n",
    "from keras.layers import Dense, Dropout, Activation\n",
    "from keras.layers import LSTM, GRU\n",
    "from keras.models import Sequential"
   ],
   "metadata": {
    "collapsed": false,
    "pycharm": {
     "name": "#%%\n"
    }
   }
  },
  {
   "cell_type": "markdown",
   "source": [
    "对下面get_lstm中注释的一个解释\n",
    "units:第一个说明的类型，表明是int的列表，列表中包含了输入、输出和隐藏单元的数量"
   ],
   "metadata": {
    "collapsed": false,
    "pycharm": {
     "name": "#%% md\n"
    }
   }
  },
  {
   "cell_type": "code",
   "execution_count": 3,
   "outputs": [],
   "source": [
    "def get_lstm(units):\n",
    "    \"\"\"\n",
    "    LSTM\n",
    "    # Arguments\n",
    "        units:List(int), number of input, output and hidden units\n",
    "    # Returns\n",
    "        model:Model, nn model\n",
    "\n",
    "    \"\"\"\n",
    "    model = Sequential()\n",
    "    model.add(LSTM(units[1], input_shape=(units[0], 1), return_sequences=True))\n",
    "    model.add(LSTM(units[2]))\n",
    "    model.add(Dropout(0.2))\n",
    "    model.add(Dense(units[3], activation='sigmoid'))\n",
    "\n",
    "    return model"
   ],
   "metadata": {
    "collapsed": false,
    "pycharm": {
     "name": "#%%\n"
    }
   }
  },
  {
   "cell_type": "code",
   "execution_count": 4,
   "outputs": [],
   "source": [
    "# 创建GRU的模型\n",
    "def get_gru(units):\n",
    "    \"\"\"\n",
    "    GRU\n",
    "    # Arguments\n",
    "        units:List(int), number of input, output and hidden units\n",
    "    Return\n",
    "        model: Model, nn model\n",
    "    \"\"\"\n",
    "\n",
    "    model = Sequential()\n",
    "    model.add(GRU(units[1], input_shape=(units[0], 1), return_sequences=True))\n",
    "    model.add(GRU(units[2]))\n",
    "    model.add(Dropout(0.2))\n",
    "    model.add(Dense(units[3], activation='sigmoid'))\n",
    "\n",
    "    return model"
   ],
   "metadata": {
    "collapsed": false,
    "pycharm": {
     "name": "#%%\n"
    }
   }
  },
  {
   "cell_type": "code",
   "execution_count": 5,
   "outputs": [],
   "source": [
    "# 创建SAE模型，这只是一个自编码\n",
    "def _get_sae(inputs, hidden, output):\n",
    "    \"\"\"\n",
    "    SAE\n",
    "    # Arguments\n",
    "        inputs:Integer, number of input units\n",
    "        hidden:Integer, number of hidden units\n",
    "        output:Integer, number of output units\n",
    "    # Return\n",
    "        model:Model, nn model\n",
    "\n",
    "    \"\"\"\n",
    "    model = Sequential()\n",
    "    model.add(Dense(hidden, input_dim=inputs, name='hidden'))\n",
    "    model.add(Activation('sigmoid'))\n",
    "    model.add(Dropout(0.2))\n",
    "    model.add(Dense(output, activation='sigmoid'))"
   ],
   "metadata": {
    "collapsed": false,
    "pycharm": {
     "name": "#%%\n"
    }
   }
  },
  {
   "cell_type": "code",
   "execution_count": 6,
   "outputs": [],
   "source": [
    "# 堆叠自编码\n",
    "def get_saes(layers):\n",
    "    \"\"\"\n",
    "    SAES\n",
    "    # Arguments\n",
    "        layers:List(int), number of input, output and hidden units\n",
    "    # Returns\n",
    "        models:List(Model), List of SAE and SAEs\n",
    "    \"\"\"\n",
    "    sae1 = _get_sae(layers[0], layers[1], layers[-1])\n",
    "    sae2 = _get_sae(layers[1], layers[2], layers[-1])\n",
    "    sae3 = _get_sae(layers[2], layers[3], layers[-1])\n",
    "\n",
    "    saes = Sequential()\n",
    "    saes.add(Dense(layers[1], input_dim=layers[0], name='hidden1'))\n",
    "    saes.add(Activation('sigmoid'))\n",
    "    saes.add(Dense(layers[2], name='hidden2'))\n",
    "    saes.add(Activation('sigmoid'))\n",
    "    saes.add(Dense(layers[3], name='hidden3'))\n",
    "    saes.add(Activation('sigmoid'))\n",
    "    saes.add(Dropout(0.2))\n",
    "    saes.add(Dense(layers[4], activation='sigmoid'))\n",
    "\n",
    "    models = [sae1, sae2, sae3, saes]\n",
    "    return models"
   ],
   "metadata": {
    "collapsed": false,
    "pycharm": {
     "name": "#%%\n"
    }
   }
  },
  {
   "cell_type": "code",
   "execution_count": 7,
   "outputs": [],
   "source": [
    "# 训练train.py\n",
    "import sys\n",
    "import warnings\n",
    "import argparse\n",
    "import numpy as np\n",
    "import pandas as pd\n",
    "from model import model\n",
    "from keras.models import Model\n",
    "from keras.callbacks import  EarlyStopping\n",
    "warnings.filterwarnings(\"ignore\")\n"
   ],
   "metadata": {
    "collapsed": false,
    "pycharm": {
     "name": "#%%\n"
    }
   }
  },
  {
   "cell_type": "code",
   "execution_count": 8,
   "outputs": [
    {
     "data": {
      "text/plain": "'\\n上述操作进行了时间滞后处理，然后划分好训练集和测试集。\\n'"
     },
     "execution_count": 8,
     "metadata": {},
     "output_type": "execute_result"
    }
   ],
   "source": [
    "# 引入process_data\n",
    "import numpy as np\n",
    "import pandas as pd\n",
    "from sklearn.preprocessing import StandardScaler, MinMaxScaler\n",
    "\n",
    "def process_data(train, test, lags):\n",
    "    \"\"\"\n",
    "    # Arguments\n",
    "        train:String, name of .csv train file\n",
    "        test:String, name of .csv test file\n",
    "        lags:integer, time lag\n",
    "    # Returns\n",
    "        X_train:ndarray\n",
    "        y_train:ndarray\n",
    "        X_test:ndarray\n",
    "        y_test:ndarray\n",
    "        scaler:StandardScaler\n",
    "    \"\"\"\n",
    "    attr = 'Lane 1 Flow (Veh/5 Minutes)'\n",
    "    df1 = pd.read_csv(train, encoding='utf-8').fillna(0)\n",
    "    df2 = pd.read_csv(test, encoding='utf-8').fillna(0)\n",
    "\n",
    "    scaler = MinMaxScaler(feature_range=(0,1)).fit(df1[attr].values.reshape(-1, 1))\n",
    "    flow1 = scaler.transform(df1[attr].values.reshape(-1,1)).reshape(1,-1)[0]\n",
    "    flow2 = scaler.transform(df2[attr].values.reshape(-1,1)).reshape(1,-1)[0]\n",
    "\n",
    "    train, test = [], []\n",
    "    for i in range(lags, len(flow1)):\n",
    "        train.append(flow1[i-lags:i+1])\n",
    "    for i in range(lags, len(flow2)):\n",
    "        test.append(flow2[i - lags:i + 1])\n",
    "\n",
    "    train = np.array(train)\n",
    "    test = np.array(test)\n",
    "    np.random.shuffle(train)\n",
    "\n",
    "    X_train = train[:, :-1]\n",
    "    y_train = train[:, -1]\n",
    "    X_test = test[:,:-1]\n",
    "    y_test = test[:,-1]\n",
    "\n",
    "    return X_train, y_train, X_test, y_test, scaler\n",
    "\n",
    "\"\"\"\n",
    "上述操作进行了时间滞后处理，然后划分好训练集和测试集。\n",
    "\"\"\""
   ],
   "metadata": {
    "collapsed": false,
    "pycharm": {
     "name": "#%%\n"
    }
   }
  },
  {
   "cell_type": "code",
   "execution_count": 10,
   "outputs": [],
   "source": [
    "def MAPE(y_true, y_pred):\n",
    "    '''\n",
    "    计算平均绝对误差\n",
    "    '''\n",
    "    y = [x for x in y_true if x>0]\n",
    "    y_pred = [y_pred[i] for i in range(len(y_true)) if y_true[i]>0]\n",
    "\n",
    "    num = len(y_pred)\n",
    "    sums = 0\n",
    "    for i in range(num):\n",
    "        tmp = abs((y[i] - y_pred[i])/y[i])\n",
    "        sums += tmp\n",
    "\n",
    "    mape = sums *(100/num)\n",
    "    return mape"
   ],
   "metadata": {
    "collapsed": false,
    "pycharm": {
     "name": "#%%\n"
    }
   }
  },
  {
   "cell_type": "code",
   "execution_count": 11,
   "outputs": [],
   "source": [
    "from sklearn import metrics\n",
    "\n",
    "\n",
    "def eva_regress(y_true, y_pred):\n",
    "    '''\n",
    "    评估预测结果\n",
    "    '''\n",
    "    # 获取mape\n",
    "    mape = MAPE(y_true, y_pred)\n",
    "    vs = metrics.explained_variance_score(y_true, y_pred)\n",
    "    mae = metrics.mean_absolute_error(y_true, y_pred)\n",
    "    mse = metrics.mean_squared_error(y_true, y_pred)\n",
    "    r2 = metrics.r2_score(y_true, y_pred)\n",
    "    print('explained_variance_socre:%f' % vs)\n",
    "    print('mape:%f%%' % mape)\n",
    "    print('mae:%f' % mae)\n",
    "    print('rmse:%f' % math.sqrt(mse))\n",
    "    print('r2:%f' % r2)\n"
   ],
   "metadata": {
    "collapsed": false,
    "pycharm": {
     "name": "#%%\n"
    }
   }
  },
  {
   "cell_type": "code",
   "execution_count": 14,
   "outputs": [
    {
     "data": {
      "text/plain": "<Figure size 640x480 with 1 Axes>",
      "image/png": "[encoded data removed]"
     },
     "metadata": {},
     "output_type": "display_data"
    }
   ],
   "source": [
    "# 绘制Loss图\n",
    "\n",
    "import pandas as pd\n",
    "import matplotlib.pyplot as plt\n",
    "df = pd.read_csv('E:\\\\论文\\\\交通流\\\\AE\\\\trafiicflow_prediction\\\\TrafficFlowPrediction\\\\model\\\\saes loss.csv')\n",
    "\n",
    "\n",
    "# 绘制loss表头一栏的数据\n",
    "plt.plot(df['loss'])\n",
    "plt.xlabel('loss')\n",
    "plt.ylabel('Value')\n",
    "plt.title('Loss Header Data')\n",
    "plt.show()"
   ],
   "metadata": {
    "collapsed": false,
    "pycharm": {
     "name": "#%%\n"
    }
   }
  },
  {
   "cell_type": "code",
   "execution_count": null,
   "outputs": [],
   "source": [],
   "metadata": {
    "collapsed": false,
    "pycharm": {
     "name": "#%%\n"
    }
   }
  }
 ],
 "metadata": {
  "kernelspec": {
   "display_name": "Python 3",
   "language": "python",
   "name": "python3"
  },
  "language_info": {
   "codemirror_mode": {
    "name": "ipython",
    "version": 2
   },
   "file_extension": ".py",
   "mimetype": "text/x-python",
   "name": "python",
   "nbconvert_exporter": "python",
   "pygments_lexer": "ipython2",
   "version": "2.7.6"
  }
 },
 "nbformat": 4,
 "nbformat_minor": 0
}